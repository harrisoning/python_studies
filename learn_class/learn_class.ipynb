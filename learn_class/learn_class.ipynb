{
 "cells": [
  {
   "cell_type": "code",
   "execution_count": 1,
   "metadata": {},
   "outputs": [],
   "source": [
    "from employment import Employee, Manager"
   ]
  },
  {
   "cell_type": "code",
   "execution_count": 2,
   "metadata": {},
   "outputs": [],
   "source": [
    "emp_k = Employee(\"Kate\", 20000)"
   ]
  },
  {
   "cell_type": "code",
   "execution_count": 3,
   "metadata": {},
   "outputs": [
    {
     "name": "stdout",
     "output_type": "stream",
     "text": [
      "Name: Kate, Salary: 20000\n",
      "Total Employee 1\n"
     ]
    }
   ],
   "source": [
    "emp_k.displayEmployee()\n",
    "emp_k.displayCount()"
   ]
  },
  {
   "cell_type": "code",
   "execution_count": 4,
   "metadata": {},
   "outputs": [],
   "source": [
    "# 添加属性\n",
    "emp_k.age = 17"
   ]
  },
  {
   "cell_type": "code",
   "execution_count": 5,
   "metadata": {},
   "outputs": [
    {
     "data": {
      "text/plain": [
       "17"
      ]
     },
     "execution_count": 5,
     "metadata": {},
     "output_type": "execute_result"
    }
   ],
   "source": [
    "getattr(emp_k, 'age')"
   ]
  },
  {
   "cell_type": "code",
   "execution_count": 9,
   "metadata": {},
   "outputs": [
    {
     "name": "stdout",
     "output_type": "stream",
     "text": [
      "['_Employee__secretAccess', '__class__', '__delattr__', '__dict__', '__dir__', '__doc__', '__eq__', '__format__', '__ge__', '__getattribute__', '__gt__', '__hash__', '__init__', '__init_subclass__', '__le__', '__lt__', '__module__', '__ne__', '__new__', '__reduce__', '__reduce_ex__', '__repr__', '__setattr__', '__sizeof__', '__str__', '__subclasshook__', '__weakref__', 'displayCount', 'displayEmployee', 'empCount', 'tellSecretAccess']\n"
     ]
    }
   ],
   "source": [
    "print(dir(Employee))"
   ]
  },
  {
   "cell_type": "code",
   "execution_count": 10,
   "metadata": {},
   "outputs": [
    {
     "name": "stdout",
     "output_type": "stream",
     "text": [
      "['_Employee__secretAccess', '__class__', '__delattr__', '__dict__', '__dir__', '__doc__', '__eq__', '__format__', '__ge__', '__getattribute__', '__gt__', '__hash__', '__init__', '__init_subclass__', '__le__', '__lt__', '__module__', '__ne__', '__new__', '__reduce__', '__reduce_ex__', '__repr__', '__setattr__', '__sizeof__', '__str__', '__subclasshook__', '__weakref__', 'age', 'displayCount', 'displayEmployee', 'empCount', 'name', 'salary', 'tellSecretAccess']\n"
     ]
    }
   ],
   "source": [
    "# 带参数时，返回参数的属性、方法列表。\n",
    "# 如果参数包含方法__dir__()，该方法将被调用。\n",
    "# 如果参数不包含__dir__()，该方法将最大限度地收集参数信息。\n",
    "print(dir(emp_k))"
   ]
  },
  {
   "cell_type": "code",
   "execution_count": 6,
   "metadata": {},
   "outputs": [
    {
     "name": "stdout",
     "output_type": "stream",
     "text": [
      "['name', 'salary']\n"
     ]
    }
   ],
   "source": [
    "# 如果类定义了 __dir__，只输出定义的部分\n",
    "print(dir(emp_k))"
   ]
  },
  {
   "cell_type": "code",
   "execution_count": 8,
   "metadata": {},
   "outputs": [
    {
     "name": "stdout",
     "output_type": "stream",
     "text": [
      "Employee.__dict__: \n",
      " {'__module__': 'employment', '__doc__': '所有员工的基类', 'empCount': 1, '__init__': <function Employee.__init__ at 0x7ff7802fb7a0>, 'displayCount': <function Employee.displayCount at 0x7ff7803247a0>, 'displayEmployee': <function Employee.displayEmployee at 0x7ff780324950>, '_Employee__secretAccess': <function Employee.__secretAccess at 0x7ff7803249e0>, 'tellSecretAccess': <function Employee.tellSecretAccess at 0x7ff780324a70>, '__dict__': <attribute '__dict__' of 'Employee' objects>, '__weakref__': <attribute '__weakref__' of 'Employee' objects>} \n",
      "\n",
      "Employee.__doc__: \n",
      " 所有员工的基类 \n",
      "\n",
      "Employee.__dir__: \n",
      " <method '__dir__' of 'object' objects> \n",
      "\n",
      "Employee.__name__: \n",
      " Employee \n",
      "\n",
      "Employee.__module__: \n",
      " employment \n",
      "\n",
      "Employee.__bases__: \n",
      " (<class 'object'>,) \n",
      "\n"
     ]
    }
   ],
   "source": [
    "# 类的属性（包含一个字典，由类的数据属性组成）\n",
    "print (\"Employee.__dict__:\", \"\\n\", Employee.__dict__, \"\\n\")\n",
    "\n",
    "# 类的文档字符串\n",
    "print (\"Employee.__doc__:\", \"\\n\", Employee.__doc__, \"\\n\")\n",
    "\n",
    "# 类的属性方法\n",
    "print (\"Employee.__dir__:\", \"\\n\", Employee.__dir__, \"\\n\")\n",
    "\n",
    "# 类的名\n",
    "print (\"Employee.__name__:\", \"\\n\", Employee.__name__, \"\\n\")\n",
    "\n",
    "# 类定义所在的模块（类的全名是'__main__.className'，如果类位于一个导入模块 mymod 中，那么 className.__module__ 等于 mymod）\n",
    "print (\"Employee.__module__:\", \"\\n\", Employee.__module__, \"\\n\")\n",
    "\n",
    "# 类的所有父类构成元素（包含了以个由所有父类组成的元组）\n",
    "print (\"Employee.__bases__:\", \"\\n\", Employee.__bases__, \"\\n\")"
   ]
  },
  {
   "cell_type": "code",
   "execution_count": 4,
   "metadata": {},
   "outputs": [],
   "source": [
    "manager_1 = Manager('Harrison', 30000, 'Sales Manager')"
   ]
  },
  {
   "cell_type": "code",
   "execution_count": 5,
   "metadata": {},
   "outputs": [
    {
     "name": "stdout",
     "output_type": "stream",
     "text": [
      "My job duty is make plans\n"
     ]
    }
   ],
   "source": [
    "manager_1.myDuty(\"make plans\")"
   ]
  },
  {
   "cell_type": "code",
   "execution_count": 6,
   "metadata": {},
   "outputs": [
    {
     "name": "stdout",
     "output_type": "stream",
     "text": [
      "Name: Harrison, Salary: 30000\n"
     ]
    }
   ],
   "source": [
    "manager_1.displayEmployee()"
   ]
  },
  {
   "cell_type": "code",
   "execution_count": null,
   "metadata": {},
   "outputs": [],
   "source": []
  }
 ],
 "metadata": {
  "kernelspec": {
   "display_name": "dm",
   "language": "python",
   "name": "python3"
  },
  "language_info": {
   "codemirror_mode": {
    "name": "ipython",
    "version": 3
   },
   "file_extension": ".py",
   "mimetype": "text/x-python",
   "name": "python",
   "nbconvert_exporter": "python",
   "pygments_lexer": "ipython3",
   "version": "3.7.9"
  },
  "orig_nbformat": 4,
  "vscode": {
   "interpreter": {
    "hash": "a73622e0e23cb292332d553171d1fd4beeef2cf9b2cf463c4edc8e58f970b2d4"
   }
  }
 },
 "nbformat": 4,
 "nbformat_minor": 2
}
