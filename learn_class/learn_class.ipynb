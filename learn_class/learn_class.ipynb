{
 "cells": [
  {
   "cell_type": "code",
   "execution_count": 1,
   "metadata": {},
   "outputs": [],
   "source": [
    "import employment"
   ]
  },
  {
   "cell_type": "code",
   "execution_count": 2,
   "metadata": {},
   "outputs": [],
   "source": [
    "emp4 = employment.Employee(\"Kate\", 20000)"
   ]
  },
  {
   "cell_type": "code",
   "execution_count": 7,
   "metadata": {},
   "outputs": [
    {
     "name": "stdout",
     "output_type": "stream",
     "text": [
      "Name: Kate, Salary: 20000\n",
      "Total Employee 1\n"
     ]
    }
   ],
   "source": [
    "emp4.displayEmployee()\n",
    "emp4.displayCount()"
   ]
  },
  {
   "cell_type": "code",
   "execution_count": 4,
   "metadata": {},
   "outputs": [],
   "source": [
    "# 添加属性\n",
    "emp1.age = 17"
   ]
  },
  {
   "cell_type": "code",
   "execution_count": 5,
   "metadata": {},
   "outputs": [
    {
     "data": {
      "text/plain": [
       "17"
      ]
     },
     "execution_count": 5,
     "metadata": {},
     "output_type": "execute_result"
    }
   ],
   "source": [
    "getattr(emp1, 'age')"
   ]
  },
  {
   "cell_type": "code",
   "execution_count": 6,
   "metadata": {},
   "outputs": [
    {
     "data": {
      "text/plain": [
       "['__class__',\n",
       " '__delattr__',\n",
       " '__dict__',\n",
       " '__dir__',\n",
       " '__doc__',\n",
       " '__eq__',\n",
       " '__format__',\n",
       " '__ge__',\n",
       " '__getattribute__',\n",
       " '__gt__',\n",
       " '__hash__',\n",
       " '__init__',\n",
       " '__init_subclass__',\n",
       " '__le__',\n",
       " '__lt__',\n",
       " '__module__',\n",
       " '__ne__',\n",
       " '__new__',\n",
       " '__reduce__',\n",
       " '__reduce_ex__',\n",
       " '__repr__',\n",
       " '__setattr__',\n",
       " '__sizeof__',\n",
       " '__str__',\n",
       " '__subclasshook__',\n",
       " '__weakref__',\n",
       " 'age',\n",
       " 'displayCount',\n",
       " 'displayEmployee',\n",
       " 'empCount',\n",
       " 'name',\n",
       " 'salary']"
      ]
     },
     "execution_count": 6,
     "metadata": {},
     "output_type": "execute_result"
    }
   ],
   "source": [
    "dir(emp1)"
   ]
  },
  {
   "cell_type": "code",
   "execution_count": 13,
   "metadata": {},
   "outputs": [
    {
     "name": "stdout",
     "output_type": "stream",
     "text": [
      "Employee.__dict__: \n",
      " {'__module__': '__main__', '__doc__': '所有员工的基类', 'empCount': 2, '__init__': <function Employee.__init__ at 0x7f84a0af3d40>, 'displayCount': <function Employee.displayCount at 0x7f84a0af3dd0>, 'displayEmployee': <function Employee.displayEmployee at 0x7f84a0af3e60>, '__dict__': <attribute '__dict__' of 'Employee' objects>, '__weakref__': <attribute '__weakref__' of 'Employee' objects>} \n",
      "\n",
      "Employee.__doc__: \n",
      " 所有员工的基类 \n",
      "\n",
      "Employee.__name__: \n",
      " Employee \n",
      "\n",
      "Employee.__module__: \n",
      " __main__ \n",
      "\n",
      "Employee.__bases__: \n",
      " (<class 'object'>,) \n",
      "\n"
     ]
    }
   ],
   "source": [
    "# 类的属性（包含一个字典，由类的数据属性组成）\n",
    "print (\"Employee.__dict__:\", \"\\n\", Employee.__dict__, \"\\n\")\n",
    "\n",
    "# 类的文档字符串\n",
    "print (\"Employee.__doc__:\", \"\\n\", Employee.__doc__, \"\\n\")\n",
    "\n",
    "# 类的文档字符串\n",
    "print (\"Employee.__name__:\", \"\\n\", Employee.__name__, \"\\n\")\n",
    "\n",
    "# 类定义所在的模块（类的全名是'__main__.className'，如果类位于一个导入模块 mymod 中，那么 className.__module__ 等于 mymod）\n",
    "print (\"Employee.__module__:\", \"\\n\", Employee.__module__, \"\\n\")\n",
    "\n",
    "# 类的所有父类构成元素（包含了以个由所有父类组成的元组）\n",
    "print (\"Employee.__bases__:\", \"\\n\", Employee.__bases__, \"\\n\")"
   ]
  },
  {
   "cell_type": "code",
   "execution_count": null,
   "metadata": {},
   "outputs": [],
   "source": []
  }
 ],
 "metadata": {
  "kernelspec": {
   "display_name": "dm",
   "language": "python",
   "name": "python3"
  },
  "language_info": {
   "codemirror_mode": {
    "name": "ipython",
    "version": 3
   },
   "file_extension": ".py",
   "mimetype": "text/x-python",
   "name": "python",
   "nbconvert_exporter": "python",
   "pygments_lexer": "ipython3",
   "version": "3.7.9"
  },
  "orig_nbformat": 4,
  "vscode": {
   "interpreter": {
    "hash": "a73622e0e23cb292332d553171d1fd4beeef2cf9b2cf463c4edc8e58f970b2d4"
   }
  }
 },
 "nbformat": 4,
 "nbformat_minor": 2
}
