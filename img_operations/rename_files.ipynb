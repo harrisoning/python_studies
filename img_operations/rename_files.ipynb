{
 "cells": [
  {
   "cell_type": "code",
   "execution_count": 22,
   "id": "99ea413c",
   "metadata": {},
   "outputs": [],
   "source": [
    "import os, time, exifread, re\n",
    "from hachoir.metadata import extractMetadata\n",
    "from hachoir.parser import createParser\n",
    "from hachoir.core import config"
   ]
  },
  {
   "cell_type": "code",
   "execution_count": 23,
   "id": "40c0942a",
   "metadata": {},
   "outputs": [],
   "source": [
    "config.quiet = True"
   ]
  },
  {
   "cell_type": "code",
   "execution_count": 30,
   "id": "ce4f9388",
   "metadata": {},
   "outputs": [],
   "source": [
    "def rename_file(file, c_time):\n",
    "    c_time = re.sub('-|:', '', c_time).replace(' ', '_')\n",
    "    file_type = file.split('.')[-1]\n",
    "    new_name = f'IMG_{c_time}.{file_type}'\n",
    "    if os.path.exists(new_name):\n",
    "        print('File exists')\n",
    "        now = str(time.time())[-5:]\n",
    "        final_name = f'IMG_{c_time}_{now}.{file_type}'\n",
    "    else:\n",
    "        final_name = new_name\n",
    "    # os.rename(file, final_name)\n",
    "    print(f'{file} --> {final_name}')\n",
    "    return final_name\n",
    "\n",
    "def rename_bmtime(file, t='m'):\n",
    "    if t == 'b':\n",
    "        t_stamp = os.stat(file).st_birthtime\n",
    "    else:\n",
    "        t_stamp = os.path.getmtime(file)\n",
    "    c_time = time.strftime('%Y%m%d_%H%M%S',time.localtime(t_stamp))\n",
    "    new_name = rename_file(file, c_time)\n",
    "\n",
    "def rename_img(file):\n",
    "    try:\n",
    "        with open(file, 'rb') as f:\n",
    "            tags = exifread.process_file(f)\n",
    "            c_time = str(tags['EXIF DateTimeOriginal'])\n",
    "            new_name = rename_file(file, c_time)\n",
    "    except KeyError:\n",
    "            rename_bmtime(file, 'b')\n",
    "    except:\n",
    "            return file\n",
    "\n",
    "def rename_vid(file):\n",
    "    try:\n",
    "        c_time = extractMetadata(createParser(file)).exportDictionary()['Metadata']['Creation date']\n",
    "        if c_time[:4] != '1904':\n",
    "            new_name = rename_file(file, c_time)\n",
    "    except AttributeError:\n",
    "            print(f'No Creation Time: {file}')\n",
    "            rename_bmtime(file)\n",
    "            print('-'*50)\n",
    "    except:\n",
    "            return file"
   ]
  },
  {
   "cell_type": "code",
   "execution_count": 43,
   "id": "3f778b5c",
   "metadata": {},
   "outputs": [
    {
     "name": "stdout",
     "output_type": "stream",
     "text": [
      "IMG_9991.HEIC --> IMG_20221002_101717.HEIC\n",
      "IMG_9990.HEIC --> IMG_20221002_101712.HEIC\n",
      "IMG_9986.HEIC --> IMG_20221001_172601.HEIC\n",
      "IMG_9989.JPG --> IMG_20221001_172920.JPG\n",
      "MTVideo_2.mp4 --> IMG_20221016_050606.mp4\n",
      "MTVideo_1.mp4 --> IMG_20221022_124831.mp4\n",
      "No Creation Time: IMG_9978.MOV\n",
      "IMG_9978.MOV --> IMG_20221001_171012.MOV\n",
      "--------------------------------------------------\n",
      "IMG_9981.HEIC --> IMG_20221001_172532.HEIC\n",
      "IMG_9978.HEIC --> IMG_20221001_171013.HEIC\n",
      "IMG_9997.HEIC --> IMG_20221002_113849.HEIC\n",
      "IMG_9986.MOV --> IMG_20221001_092601.MOV\n",
      "IMG_9990.MOV --> IMG_20221002_021712.MOV\n",
      "IMG_9984.MOV --> IMG_20221001_092548.MOV\n",
      "IMG_9985.MOV --> IMG_20221001_092548.MOV\n",
      "IMG_9991.MOV --> IMG_20221002_024221.MOV\n",
      "IMG_9995.MOV --> IMG_20221002_024101.MOV\n",
      "IMG_9981.MOV --> IMG_20221001_092534.MOV\n",
      "IMG_9980.MOV --> IMG_20221001_092506.MOV\n",
      "IMG_9994.MOV --> IMG_20221002_024130.MOV\n",
      "IMG_9982.MOV --> IMG_20221001_092535.MOV\n",
      "MTVideo.mp4 --> IMG_20221013_115300.mp4\n",
      "sd1665731666_2.mp4 --> IMG_20221014_071420.mp4\n",
      "IMG_9980.HEIC --> IMG_20221001_172506.HEIC\n",
      "No Creation Time: IMG_9997.MOV\n",
      "IMG_9997.MOV --> IMG_20221002_113848.MOV\n",
      "--------------------------------------------------\n",
      "IMG_9983.MOV --> IMG_20221001_092535.MOV\n",
      "IMG_9995.HEIC --> IMG_20221002_104057.HEIC\n",
      "IMG_9983.HEIC --> IMG_20221001_172534.HEIC\n",
      "IMG_9999.HEIC --> IMG_20221002_113851.HEIC\n",
      "No Creation Time: IMG_9999.MOV\n",
      "IMG_9999.MOV --> IMG_20221002_113850.MOV\n",
      "--------------------------------------------------\n",
      "No Creation Time: IMG_9998.MOV\n",
      "IMG_9998.MOV --> IMG_20221002_113849.MOV\n",
      "--------------------------------------------------\n",
      "IMG_9988.MOV --> IMG_20221001_093717.MOV\n",
      "IMG_9998.HEIC --> IMG_20221002_113850.HEIC\n",
      "IMG_9982.HEIC --> IMG_20221001_172533.HEIC\n",
      "IMG_9994.HEIC --> IMG_20221002_104057.HEIC\n",
      "IMG_9985.HEIC --> IMG_20221001_172547.HEIC\n",
      "IMG_9984.HEIC --> IMG_20221001_172546.HEIC\n",
      "IMG_9988.HEIC --> IMG_20221001_173717.HEIC\n",
      "\n",
      "Files: 42\n",
      "Errors: 0 []\n",
      "Others: 5 ['.DS_Store', 'rename_files.ipynb', 'rename_files.py', '.ipynb_checkpoints', 'sort_images.py']\n"
     ]
    }
   ],
   "source": [
    "files = os.listdir()\n",
    "\n",
    "errors, others = [], []\n",
    "for file in files:\n",
    "    # images\n",
    "    if re.search('HEIC|JPG|JPEG|PNG', file, re.IGNORECASE):\n",
    "        errors.append(rename_img(file))\n",
    "            \n",
    "    # videos and others   \n",
    "    elif re.search('MOV|MP4|M4V', file, re.IGNORECASE):\n",
    "        errors.append(rename_vid(file))\n",
    "\n",
    "    else:\n",
    "        others.append(file)\n",
    "\n",
    "errors = list(filter(None, errors))\n",
    "print()\n",
    "print(f'Files: {len(files)}')\n",
    "print(f'Errors: {len(errors)}', errors)\n",
    "print(f'Others: {len(others)}', others)"
   ]
  },
  {
   "cell_type": "markdown",
   "id": "68fabb51-262b-4852-b30d-07959505dc33",
   "metadata": {},
   "source": [
    "# saved wechat files"
   ]
  },
  {
   "cell_type": "code",
   "execution_count": null,
   "id": "00018831-2476-4e6a-9e13-96017d955212",
   "metadata": {},
   "outputs": [],
   "source": [
    "# rename from time_stamp in file name saved from wechat \n",
    "for i in files:\n",
    "    try:\n",
    "        start = re.search('16',i).start()\n",
    "        c_time = time.strftime('%Y%m%d_%H%M%S', time.localtime(int(i[start:start+10])))\n",
    "        new_name = rename_file(i, c_time)\n",
    "        print(i, new_name)\n",
    "        # os.rename(i, new_name)\n",
    "    except:\n",
    "        print(i)"
   ]
  }
 ],
 "metadata": {
  "kernelspec": {
   "display_name": "Python 3.7.9 ('dm')",
   "language": "python",
   "name": "python3"
  },
  "language_info": {
   "codemirror_mode": {
    "name": "ipython",
    "version": 3
   },
   "file_extension": ".py",
   "mimetype": "text/x-python",
   "name": "python",
   "nbconvert_exporter": "python",
   "pygments_lexer": "ipython3",
   "version": "3.7.9 (default, Aug 31 2020, 07:22:35) \n[Clang 10.0.0 ]"
  },
  "vscode": {
   "interpreter": {
    "hash": "a73622e0e23cb292332d553171d1fd4beeef2cf9b2cf463c4edc8e58f970b2d4"
   }
  }
 },
 "nbformat": 4,
 "nbformat_minor": 5
}
